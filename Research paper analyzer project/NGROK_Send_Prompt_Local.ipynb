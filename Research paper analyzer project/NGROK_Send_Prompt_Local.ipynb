{
 "cells": [
  {
   "cell_type": "code",
   "execution_count": 7,
   "id": "a629988d",
   "metadata": {},
   "outputs": [
    {
     "name": "stdout",
     "output_type": "stream",
     "text": [
      "Full JSON: {'response': 'Summarize this abstract: Deep learning improves... (1) the accuracy of... (2) the prediction of... (3) the detection of... (4) the classification of... (5) the segmentation of... (6) the generation of... (7) the analysis of... (8) the interpretation of... (9) the visualization of... (10) the optimization of... (11) the control of... (12) the planning of... (13) the scheduling of... (14) the navigation of... (15) the manipulation of... (16) the interaction with... (17) the understanding of... (18) the explanation of... (19) the discovery of... (20) the prediction of... (21) the diagnosis of... (22) the prognosis of... (23) the treatment of... (24) the monitoring of... (25) the tracking of... (26) the localization of... ('}\n",
      "response: Summarize this abstract: Deep learning improves... (1) the accuracy of... (2) the prediction of... (3) the detection of... (4) the classification of... (5) the segmentation of... (6) the generation of... (7) the analysis of... (8) the interpretation of... (9) the visualization of... (10) the optimization of... (11) the control of... (12) the planning of... (13) the scheduling of... (14) the navigation of... (15) the manipulation of... (16) the interaction with... (17) the understanding of... (18) the explanation of... (19) the discovery of... (20) the prediction of... (21) the diagnosis of... (22) the prognosis of... (23) the treatment of... (24) the monitoring of... (25) the tracking of... (26) the localization of... (\n"
     ]
    }
   ],
   "source": [
    "import requests\n",
    "\n",
    "URL = \"https://4129a4a3aca0.ngrok-free.app/generate\" \n",
    "headers = {\"Authorization\": \"Bearer Test11\"}\n",
    "payload = {\n",
    "    \"prompt\": \"Summarize this abstract: Deep learning improves...\",\n",
    "    \"max_length\": 200\n",
    "}\n",
    "\n",
    "res = requests.post(URL, headers=headers, json=payload)\n",
    "print(\"Full JSON:\", res.json())\n",
    "\n",
    "if \"response\" in res.json():\n",
    "    print(\"response:\", res.json()[\"response\"])\n",
    "else:\n",
    "    print(\"No 'response' key found\")"
   ]
  },
  {
   "cell_type": "code",
   "execution_count": null,
   "id": "e48f7177",
   "metadata": {},
   "outputs": [],
   "source": []
  }
 ],
 "metadata": {
  "kernelspec": {
   "display_name": "base",
   "language": "python",
   "name": "python3"
  },
  "language_info": {
   "codemirror_mode": {
    "name": "ipython",
    "version": 3
   },
   "file_extension": ".py",
   "mimetype": "text/x-python",
   "name": "python",
   "nbconvert_exporter": "python",
   "pygments_lexer": "ipython3",
   "version": "3.13.5"
  }
 },
 "nbformat": 4,
 "nbformat_minor": 5
}
